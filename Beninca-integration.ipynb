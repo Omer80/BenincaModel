{
 "cells": [
  {
   "cell_type": "code",
   "execution_count": 1,
   "metadata": {
    "code_folding": []
   },
   "outputs": [],
   "source": [
    "# Loading packages\n",
    "import numpy as np\n",
    "import sdeint\n",
    "import deepdish.io as dd\n",
    "from scipy.integrate import solve_ivp\n",
    "import matplotlib.pyplot as plt\n",
    "from scipy import signal\n",
    "import matplotlib.gridspec as gridspec\n",
    "%matplotlib inline\n",
    "import time\n",
    "from IPython.display import set_matplotlib_formats\n",
    "from ipywidgets import interact, interactive,FloatSlider,IntSlider,ToggleButton\n",
    "from ipywidgets import Button, HBox, VBox, Text,Select,Layout,Dropdown\n",
    "set_matplotlib_formats('pdf', 'png')\n",
    "plt.rcParams['savefig.dpi'] = 75\n",
    "\n",
    "plt.rcParams['figure.autolayout'] = False\n",
    "plt.rcParams['figure.figsize'] = 10, 6\n",
    "plt.rcParams['axes.labelsize'] = 18\n",
    "plt.rcParams['axes.titlesize'] = 20\n",
    "plt.rcParams['font.size'] = 16\n",
    "plt.rcParams['lines.linewidth'] = 2.0\n",
    "plt.rcParams['lines.markersize'] = 8\n",
    "plt.rcParams['legend.fontsize'] = 14\n",
    "\n",
    "plt.rcParams['text.usetex'] = True\n",
    "plt.rcParams['font.family'] = \"sans\"\n",
    "plt.rcParams['font.serif'] = \"cm\"\n",
    "#plt.rcParams['text.latex.preamble'] = \"\\usepackage{subdepth}, \\usepackage{type1cm}\""
   ]
  },
  {
   "cell_type": "code",
   "execution_count": 2,
   "metadata": {
    "code_folding": [
     0
    ]
   },
   "outputs": [
    {
     "name": "stdout",
     "output_type": "stream",
     "text": [
      "{'Tmax': 17.1, 'Tmean': 17.1, 'alpha': 1.0, 'cAB': 0.049, 'cAR': 0.021, 'cBR': 0.018, 'cM': 0.078, 'mA': 0.013, 'mB': 0.003, 'mM': 0.017, 'muAB': 0.036, 'muAR': 0.008, 'muB': 0.015, 'muM': 0.061}\n"
     ]
    }
   ],
   "source": [
    "# Setting up the model\n",
    "from BenincaModel import BenincaModel,Es_normal\n",
    "#Es_normal['rhs']='RM_forced'\n",
    "Es_normal[\"verbose\"]=False\n",
    "m = BenincaModel(Es=Es_normal,Ps='auto/Beninca_set1.hdf5',Vs=None)\n",
    "p=m.p.copy()\n",
    "print(p)"
   ]
  },
  {
   "cell_type": "code",
   "execution_count": 3,
   "metadata": {},
   "outputs": [],
   "source": [
    "t,sol_const = m.ode_integrate([0.5,0.5,0.5,0.5])"
   ]
  },
  {
   "cell_type": "code",
   "execution_count": 4,
   "metadata": {},
   "outputs": [
    {
     "name": "stdout",
     "output_type": "stream",
     "text": [
      "[0.16326531 0.01749869 0.05468341 0.11538462]\n"
     ]
    }
   ],
   "source": [
    "print(sol_const[-1])\n",
    "init_cond = sol_const[-1]"
   ]
  },
  {
   "cell_type": "code",
   "execution_count": 5,
   "metadata": {
    "code_folding": [
     0
    ]
   },
   "outputs": [],
   "source": [
    "# Erase the initial integration variables to save space\n",
    "%reset_selective -f \"^t$\"\n",
    "%reset_selective -f \"^sol_const$\""
   ]
  },
  {
   "cell_type": "code",
   "execution_count": null,
   "metadata": {},
   "outputs": [],
   "source": [
    "peaks=signal.find_peaks(sol_const[:,0]+sol_const[:,1])\n",
    "print(t[peaks[0]])"
   ]
  },
  {
   "cell_type": "code",
   "execution_count": null,
   "metadata": {
    "code_folding": [
     0
    ]
   },
   "outputs": [],
   "source": [
    "# Plot constant\n",
    "fig,ax=plt.subplots(1,2,figsize=(4*1.618,6))\n",
    "gs = gridspec.GridSpec(3, 1)\n",
    "ax3 = plt.subplot(gs[2:,:])\n",
    "ax1 = plt.subplot(gs[0, :])#, sharey=ax3, sharex=ax3)\n",
    "ax2 = plt.subplot(gs[1, :])#, sharey=ax3, sharex=ax3)\n",
    "ax1.plot(t/365,(sol_const[:,0]+sol_const[:,1])*100.0,'b',label=r'Barnacles')\n",
    "ax2.plot(t/365,sol_const[:,2]*100.0,'g',label=r'Algae')\n",
    "ax3.plot(t/365,sol_const[:,3]*100.0,'r',label=r'Mussels')\n",
    "ax1.set_ylabel(r'Barnacles $[\\%]$')\n",
    "ax1.axes.xaxis.set_ticklabels([])\n",
    "ax2.axes.xaxis.set_ticklabels([])\n",
    "#ax3.axes.xaxis.set_ticklabels(np.arange(30,51,1))\n",
    "ax2.set_ylabel(r'Algae $[\\%]$')\n",
    "ax3.set_ylabel(r'Mussels $[\\%]$')\n",
    "ax3.set_xlabel(r'Time $[years]$')\n",
    "ax1.set_xlim([0/365,t[-1]/365])\n",
    "ax2.set_xlim([0/365,t[-1]/365])\n",
    "ax3.set_xlim([0/365,t[-1]/365])\n",
    "ax1.stem(t[peaks[0]]/365,(sol_const[:,0]+sol_const[:,1])[peaks[0]]*100.0)\n",
    "plt.tight_layout()\n",
    "#plt.savefig('results/Beninca_const_temp.pdf')\n",
    "#plt.savefig('results/Beninca_const_temp.png')"
   ]
  },
  {
   "cell_type": "code",
   "execution_count": 6,
   "metadata": {
    "code_folding": [
     10
    ]
   },
   "outputs": [
    {
     "name": "stdout",
     "output_type": "stream",
     "text": [
      "Took  3.9412644108136496  minutes\n"
     ]
    }
   ],
   "source": [
    "Tmax=17.5\n",
    "\n",
    "ito=0.001\n",
    "\n",
    "int_finish=50*365\n",
    "\n",
    "# Define ito\n",
    "parameters={}\n",
    "parameters['Tmax']=Tmax\n",
    "m.update_parameters(parameters)\n",
    "def G(y, t):\n",
    "    return np.array([[ito,0.0,0.0,0.0],[0.0,ito,0.0,0.0],[0.0,0.0,ito,0.0],[0.0,0.0,0.0,ito]])\n",
    "step=0.01\n",
    "tspan = np.arange(0.0, int_finish+step,step)\n",
    "start=time.time()\n",
    "result = sdeint.itoint(m.rhs_ode, G, init_cond, tspan)\n",
    "print(\"Took \",(time.time()-start)/60.0,\" minutes\")"
   ]
  },
  {
   "cell_type": "code",
   "execution_count": null,
   "metadata": {
    "code_folding": [
     0
    ]
   },
   "outputs": [],
   "source": [
    "# Erase results !!!!!!!!\n",
    "%reset_selective -f \"^result$\""
   ]
  },
  {
   "cell_type": "code",
   "execution_count": null,
   "metadata": {
    "code_folding": []
   },
   "outputs": [
    {
     "name": "stderr",
     "output_type": "stream",
     "text": [
      "/home/ohm/anaconda3/lib/python3.7/site-packages/matplotlib/_constrained_layout.py:158: UserWarning: There are no gridspecs with layoutboxes. Possibly did not call parent GridSpec with the figure= keyword\n",
      "  warnings.warn('There are no gridspecs with layoutboxes. '\n"
     ]
    }
   ],
   "source": [
    "# Plot with fft\n",
    "finish=50*365\n",
    "trim_yr=30\n",
    "trim=trim_yr*365\n",
    "fig,ax=plt.subplots(1,2,figsize=(6*1.618,6),constrained_layout=True)\n",
    "gs = gridspec.GridSpec(3, 3)\n",
    "ax3 = plt.subplot(gs[2:,:-1])\n",
    "ax1 = plt.subplot(gs[0, :-1])#, sharey=ax3, sharex=ax3)\n",
    "ax2 = plt.subplot(gs[1, :-1])#, sharey=ax3, sharex=ax3)\n",
    "ax4 = plt.subplot(gs[:, -1])\n",
    "forcing_tspan = m.Ft(tspan)\n",
    "plot_forcing_tspan = 10.0*forcing_tspan/np.amax(forcing_tspan)\n",
    "ax1.plot(tspan/365-trim_yr,(result[:,0]+result[:,1])*100.0,'b',label=r'Barnacles')\n",
    "ax2.plot(tspan/365-trim_yr,result[:,2]*100.0,'g',label=r'Algae')\n",
    "ax3.plot(tspan/365-trim_yr,result[:,3]*100.0,'r',label=r'Mussels')\n",
    "ax1.plot(tspan/365-trim_yr,plot_forcing_tspan,'m:',label=r'forcing',lw=1)\n",
    "ax2.plot(tspan/365-trim_yr,plot_forcing_tspan,'m:',label=r'forcing',lw=1)\n",
    "ax3.plot(tspan/365-trim_yr,plot_forcing_tspan,'m:',label=r'forcing',lw=1)\n",
    "ax1.set_ylabel(r'Barnacles $[\\%]$')\n",
    "ax1.axes.xaxis.set_ticklabels([])\n",
    "ax2.axes.xaxis.set_ticklabels([])\n",
    "#ax3.axes.xaxis.set_ticklabels(np.arange(30,51,1))\n",
    "ax2.set_ylabel(r'Algae $[\\%]$')\n",
    "ax3.set_ylabel(r'Mussels $[\\%]$')\n",
    "ax3.set_xlabel(r'Time $[years]$')\n",
    "ax1.set_xlim([0,20])\n",
    "ax2.set_xlim([0,20])\n",
    "ax3.set_xlim([0,20])\n",
    "ax1.set_ylim([-10,110])\n",
    "ax2.set_ylim([-10,110])\n",
    "ax3.set_ylim([-10,110])\n",
    "# FFT\n",
    "forcing = m.Ft(tspan)\n",
    "#print(len(forcing))\n",
    "trimfft = int(len(forcing)*(2.0/5.0)) # the index from which to trim the time series to clean transients\n",
    "#print(trim)\n",
    "frq = np.fft.fftfreq(forcing[-trimfft:].size,d=0.01/365)\n",
    "fft_forcing = np.absolute((np.fft.fft(forcing[-trimfft:])))\n",
    "fft_signal_B  = np.absolute((np.fft.fft(result[-trimfft:,0]+result[-trimfft:,1])))\n",
    "fft_signal_M  = np.absolute((np.fft.fft(result[-trimfft:,-1])))\n",
    "normalize_fft = np.amax(fft_signal_B[1:])\n",
    "ax4.plot(frq[1:],fft_forcing[1:]/np.amax(fft_forcing[1:]),'m:',label=r'forcing')\n",
    "ax4.plot(frq[1:],fft_signal_B[1:]/normalize_fft,'b',label=r'Barnacles')\n",
    "ax4.plot(frq[1:],fft_signal_M[1:]/normalize_fft,'r',label=r'Mussels')\n",
    "ax4.set_xlim([0.1,2.0])\n",
    "ax4.set_ylim([-0.01,1.2])\n",
    "ax4.set_xlabel(r'freq $[1/years]$')\n",
    "#ax[0].legend(loc='upper left')\n",
    "ax4.legend(loc='upper right')\n",
    "#ax[0].legend(loc='upper left')\n",
    "#ax[1].legend(loc='upper left')\n",
    "plt.savefig('results/Beninca_Ito_and_fft_Tmax{:3.2f}_ito{:5.4f}'.format(Tmax,ito).replace('.','_')+'.pdf')\n",
    "plt.savefig('results/Beninca_Ito_and_fft_Tmax{:3.2f}_ito{:5.4f}'.format(Tmax,ito).replace('.','_')+'.png')"
   ]
  },
  {
   "cell_type": "code",
   "execution_count": null,
   "metadata": {
    "code_folding": [
     0
    ]
   },
   "outputs": [],
   "source": [
    "# Plot time series\n",
    "trim=0*365\n",
    "finish = int(int_finish*1.0)\n",
    "\n",
    "fig,ax=plt.subplots(1,2,figsize=(6*1.618,6))\n",
    "gs = gridspec.GridSpec(3, 3)\n",
    "ax3 = plt.subplot(gs[2:,:-1])\n",
    "ax1 = plt.subplot(gs[0, :-1])#, sharey=ax3, sharex=ax3)\n",
    "ax2 = plt.subplot(gs[1, :-1])#, sharey=ax3, sharex=ax3)\n",
    "ax4 = plt.subplot(gs[:, -1])\n",
    "forcing_tspan = m.Ft(tspan)\n",
    "plot_forcing_tspan = 10.0*forcing_tspan/np.amax(forcing_tspan)\n",
    "ax1.plot(tspan/365,(result[:,0]+result[:,1])*100.0,'b',label=r'Barnacles')\n",
    "ax2.plot(tspan/365,result[:,2]*100.0,'g',label=r'Algae')\n",
    "ax3.plot(tspan/365,result[:,3]*100.0,'r',label=r'Mussels')\n",
    "ax1.plot(tspan/365,plot_forcing_tspan,'m:',label=r'forcing',lw=1)\n",
    "ax2.plot(tspan/365,plot_forcing_tspan,'m:',label=r'forcing',lw=1)\n",
    "ax3.plot(tspan/365,plot_forcing_tspan,'m:',label=r'forcing',lw=1)\n",
    "ax1.set_ylabel(r'Barnacles $[\\%]$')\n",
    "ax1.axes.xaxis.set_ticklabels([])\n",
    "ax2.axes.xaxis.set_ticklabels([])\n",
    "#ax3.axes.xaxis.set_ticklabels(np.arange(30,51,1))\n",
    "ax2.set_ylabel(r'Algae $[\\%]$')\n",
    "ax3.set_ylabel(r'Mussels $[\\%]$')\n",
    "ax3.set_xlabel(r'Time $[years]$')\n",
    "ax1.set_xlim([trim/365,tspan[-1]/365])\n",
    "ax2.set_xlim([trim/365,tspan[-1]/365])\n",
    "ax3.set_xlim([trim/365,tspan[-1]/365])\n",
    "ax1.set_ylim([-10,110])\n",
    "ax2.set_ylim([-10,110])\n",
    "ax3.set_ylim([-10,110])\n",
    "# FFT\n",
    "forcing = m.Ft(tspan)\n",
    "#print(len(forcing))\n",
    "trimfft = int(len(forcing)*(2.0/5.0)) # the index from which to trim the time series to clean transients\n",
    "#print(trim)\n",
    "frq = np.fft.fftfreq(forcing[-trimfft:].size,d=0.01/365)\n",
    "fft_forcing = np.absolute((np.fft.fft(forcing[-trimfft:])))\n",
    "fft_signal  = np.absolute((np.fft.fft(result[-trimfft:,0])))\n",
    "normalize_fft = np.amax(fft_signal[1:])\n",
    "ax4.plot(frq[1:],fft_forcing[1:]/np.amax(fft_forcing[1:]),'m:',label=r'forcing')\n",
    "ax4.plot(frq[1:],fft_signal[1:]/normalize_fft,'b',label=r'signal')\n",
    "ax4.set_xlim([0.1,2.0])\n",
    "ax4.set_ylim([-0.01,1.2])\n",
    "ax4.set_xlabel(r'freq $[1/years]$')\n",
    "peaks=signal.find_peaks(result[:,0])\n",
    "ax1.stem(tspan[peaks[0]]/365,(result[:,0])[peaks[0]]*100.0)\n",
    "#ax[0].legend(loc='upper left')\n",
    "ax4.legend(loc='upper right')\n",
    "#ax[0].legend(loc='upper left')\n",
    "#ax[1].legend(loc='upper left')\n",
    "plt.tight_layout()\n",
    "#plt.savefig('results/Beninca_Ito_and_fft_Tmax{:3.2f}_ito{:4.3f}'.format(Tmax,ito).replace('.','_')+'.pdf')\n",
    "#plt.savefig('results/Beninca_Ito_and_fft_Tmax{:3.2f}_ito{:4.3f}'.format(Tmax,ito).replace('.','_')+'.png')"
   ]
  },
  {
   "cell_type": "code",
   "execution_count": null,
   "metadata": {
    "code_folding": []
   },
   "outputs": [],
   "source": [
    "# Save results to text file\n",
    "print(tspan.reshape(-1,1).shape,result.shape)\n",
    "tspan_results=np.hstack((tspan.reshape(-1,1)/365.0,100.0*result))\n",
    "np.savetxt(\"../../Dropbox/code/Beninca/ts-tmax27_0-with-tmax.dat\",tspan_results)"
   ]
  }
 ],
 "metadata": {
  "kernelspec": {
   "display_name": "Python 3",
   "language": "python",
   "name": "python3"
  },
  "language_info": {
   "codemirror_mode": {
    "name": "ipython",
    "version": 3
   },
   "file_extension": ".py",
   "mimetype": "text/x-python",
   "name": "python",
   "nbconvert_exporter": "python",
   "pygments_lexer": "ipython3",
   "version": "3.7.2"
  },
  "latex_envs": {
   "LaTeX_envs_menu_present": true,
   "autoclose": false,
   "autocomplete": true,
   "bibliofile": "biblio.bib",
   "cite_by": "apalike",
   "current_citInitial": 1,
   "eqLabelWithNumbers": true,
   "eqNumInitial": 1,
   "hotkeys": {
    "equation": "Ctrl-E",
    "itemize": "Ctrl-I"
   },
   "labels_anchors": false,
   "latex_user_defs": false,
   "report_style_numbering": false,
   "user_envs_cfg": false
  }
 },
 "nbformat": 4,
 "nbformat_minor": 2
}
