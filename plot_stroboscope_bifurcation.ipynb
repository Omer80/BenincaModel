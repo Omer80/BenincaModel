{
 "cells": [
  {
   "cell_type": "code",
   "execution_count": 31,
   "metadata": {
    "code_folding": [
     0
    ]
   },
   "outputs": [],
   "source": [
    "# importing stuff..\n",
    "import numpy as np\n",
    "import sdeint\n",
    "import deepdish.io as dd\n",
    "import matplotlib.pyplot as plt\n",
    "import matplotlib.gridspec as gridspec\n",
    "from sklearn.cluster import KMeans\n",
    "%matplotlib inline\n",
    "import time\n",
    "from IPython.display import set_matplotlib_formats\n",
    "from ipywidgets import interact, interactive,FloatSlider,IntSlider,ToggleButton\n",
    "from ipywidgets import Button, HBox, VBox, Text,Select,Layout,Dropdown\n",
    "set_matplotlib_formats('pdf', 'png')\n",
    "plt.rcParams['savefig.dpi'] = 75\n",
    "\n",
    "plt.rcParams['figure.autolayout'] = False\n",
    "plt.rcParams['figure.figsize'] = 10, 6\n",
    "plt.rcParams['axes.labelsize'] = 18\n",
    "plt.rcParams['axes.titlesize'] = 20\n",
    "plt.rcParams['font.size'] = 16\n",
    "plt.rcParams['lines.linewidth'] = 2.0\n",
    "plt.rcParams['lines.markersize'] = 8\n",
    "plt.rcParams['legend.fontsize'] = 14\n",
    "\n",
    "plt.rcParams['text.usetex'] = True\n",
    "plt.rcParams['font.family'] = \"sans\"\n",
    "plt.rcParams['font.serif'] = \"cm\""
   ]
  },
  {
   "cell_type": "code",
   "execution_count": null,
   "metadata": {},
   "outputs": [],
   "source": [
    "data = dd.load('Beninca_B_min_max_to_Tmax.hdf5')\n",
    "contvar = data['Tmax']"
   ]
  },
  {
   "cell_type": "code",
   "execution_count": 2,
   "metadata": {},
   "outputs": [
    {
     "ename": "NameError",
     "evalue": "name 'dd' is not defined",
     "output_type": "error",
     "traceback": [
      "\u001b[0;31m---------------------------------------------------------------------------\u001b[0m",
      "\u001b[0;31mNameError\u001b[0m                                 Traceback (most recent call last)",
      "\u001b[0;32m<ipython-input-2-b8491f650130>\u001b[0m in \u001b[0;36m<module>\u001b[0;34m()\u001b[0m\n\u001b[0;32m----> 1\u001b[0;31m \u001b[0mdata\u001b[0m \u001b[0;34m=\u001b[0m \u001b[0mdd\u001b[0m\u001b[0;34m.\u001b[0m\u001b[0mload\u001b[0m\u001b[0;34m(\u001b[0m\u001b[0;34m'Beninca_B_min_max_to_alpha.hdf5'\u001b[0m\u001b[0;34m)\u001b[0m\u001b[0;34m\u001b[0m\u001b[0;34m\u001b[0m\u001b[0m\n\u001b[0m\u001b[1;32m      2\u001b[0m \u001b[0mcontvar\u001b[0m \u001b[0;34m=\u001b[0m \u001b[0mdata\u001b[0m\u001b[0;34m[\u001b[0m\u001b[0;34m'alpha'\u001b[0m\u001b[0;34m]\u001b[0m\u001b[0;34m\u001b[0m\u001b[0;34m\u001b[0m\u001b[0m\n",
      "\u001b[0;31mNameError\u001b[0m: name 'dd' is not defined"
     ]
    }
   ],
   "source": [
    "data = dd.load('Beninca_B_min_max_to_alpha.hdf5')\n",
    "contvar = data['alpha']"
   ]
  },
  {
   "cell_type": "code",
   "execution_count": 1,
   "metadata": {
    "code_folding": []
   },
   "outputs": [
    {
     "ename": "NameError",
     "evalue": "name 'contvar' is not defined",
     "output_type": "error",
     "traceback": [
      "\u001b[0;31m---------------------------------------------------------------------------\u001b[0m",
      "\u001b[0;31mNameError\u001b[0m                                 Traceback (most recent call last)",
      "\u001b[0;32m<ipython-input-1-650319985de3>\u001b[0m in \u001b[0;36m<module>\u001b[0;34m()\u001b[0m\n\u001b[1;32m      1\u001b[0m \u001b[0;31m# Quick check of bifurcation\u001b[0m\u001b[0;34m\u001b[0m\u001b[0;34m\u001b[0m\u001b[0;34m\u001b[0m\u001b[0m\n\u001b[0;32m----> 2\u001b[0;31m \u001b[0;32mfor\u001b[0m \u001b[0mi\u001b[0m\u001b[0;34m,\u001b[0m\u001b[0mvar\u001b[0m \u001b[0;32min\u001b[0m \u001b[0menumerate\u001b[0m\u001b[0;34m(\u001b[0m\u001b[0mcontvar\u001b[0m\u001b[0;34m)\u001b[0m\u001b[0;34m:\u001b[0m\u001b[0;34m\u001b[0m\u001b[0;34m\u001b[0m\u001b[0m\n\u001b[0m\u001b[1;32m      3\u001b[0m     \u001b[0mB\u001b[0m \u001b[0;34m=\u001b[0m \u001b[0mdata\u001b[0m\u001b[0;34m[\u001b[0m\u001b[0;34m'B'\u001b[0m\u001b[0;34m]\u001b[0m\u001b[0;34m[\u001b[0m\u001b[0mi\u001b[0m\u001b[0;34m]\u001b[0m\u001b[0;34m\u001b[0m\u001b[0;34m\u001b[0m\u001b[0m\n\u001b[1;32m      4\u001b[0m     \u001b[0mvar_arr\u001b[0m \u001b[0;34m=\u001b[0m \u001b[0mvar\u001b[0m\u001b[0;34m*\u001b[0m\u001b[0mnp\u001b[0m\u001b[0;34m.\u001b[0m\u001b[0mones_like\u001b[0m\u001b[0;34m(\u001b[0m\u001b[0mB\u001b[0m\u001b[0;34m)\u001b[0m\u001b[0;34m\u001b[0m\u001b[0;34m\u001b[0m\u001b[0m\n\u001b[1;32m      5\u001b[0m     \u001b[0mplt\u001b[0m\u001b[0;34m.\u001b[0m\u001b[0mscatter\u001b[0m\u001b[0;34m(\u001b[0m\u001b[0mvar_arr\u001b[0m\u001b[0;34m,\u001b[0m\u001b[0mB\u001b[0m\u001b[0;34m,\u001b[0m\u001b[0ms\u001b[0m\u001b[0;34m=\u001b[0m\u001b[0;36m20\u001b[0m\u001b[0;34m,\u001b[0m\u001b[0mmarker\u001b[0m\u001b[0;34m=\u001b[0m\u001b[0;34m\",\"\u001b[0m\u001b[0;34m,\u001b[0m\u001b[0mc\u001b[0m\u001b[0;34m=\u001b[0m\u001b[0;34m'k'\u001b[0m\u001b[0;34m,\u001b[0m \u001b[0mlinewidths\u001b[0m\u001b[0;34m=\u001b[0m\u001b[0;36m0\u001b[0m\u001b[0;34m,\u001b[0m \u001b[0mrasterized\u001b[0m\u001b[0;34m=\u001b[0m\u001b[0;32mTrue\u001b[0m\u001b[0;34m)\u001b[0m\u001b[0;34m\u001b[0m\u001b[0;34m\u001b[0m\u001b[0m\n",
      "\u001b[0;31mNameError\u001b[0m: name 'contvar' is not defined"
     ]
    }
   ],
   "source": [
    "# Quick check of bifurcation\n",
    "for i,var in enumerate(contvar):\n",
    "    B = data['B'][i]\n",
    "    var_arr = var*np.ones_like(B)\n",
    "    plt.scatter(var_arr,B,s=20,marker=\",\",c='k', linewidths=0, rasterized=True)\n",
    "plt.ylim([0,100])\n",
    "plt.xlim([contvar[0],contvar[-1]])"
   ]
  },
  {
   "cell_type": "code",
   "execution_count": 4,
   "metadata": {},
   "outputs": [
    {
     "name": "stdout",
     "output_type": "stream",
     "text": [
      "0.2412337667731354\n"
     ]
    }
   ],
   "source": [
    "def check_doubling(sample,guess,threshold_distance):\n",
    "    guesses = np.array([guess-0.5*threshold_distance,guess+0.5*threshold_distance]).reshape(2,1)\n",
    "    #print(guesses.shape)\n",
    "    km = KMeans(init=guesses, n_clusters=2, n_init=1)\n",
    "    km.fit(sample.reshape(-1,1))\n",
    "    return (np.fabs(km.cluster_centers_[1]-km.cluster_centers_[0])>threshold_distance)[0],np.squeeze(km.cluster_centers_)\n",
    "sample = np.random.random(100)\n",
    "guess = 0.5\n",
    "threshold = 0.1\n",
    "split,centers=check_doubling(sample,guess,threshold)\n",
    "print(np.amin(centers))"
   ]
  },
  {
   "cell_type": "code",
   "execution_count": 29,
   "metadata": {
    "code_folding": []
   },
   "outputs": [
    {
     "name": "stdout",
     "output_type": "stream",
     "text": [
      "1\n",
      "{'line': [18.07639979068642], 'limits': [0.0, 100.0], 'var': [0.0]}\n"
     ]
    }
   ],
   "source": [
    "bif = {}\n",
    "limits = [0.0,100.0]\n",
    "threshold=10.0\n",
    "guess_B = np.mean(data['B'][0])\n",
    "line = [guess_B]\n",
    "bif[0]={\"line\":line,\"limits\":limits,\"var\":[contvar[0]]}\n",
    "print(len(lines))\n",
    "max_lines = 4\n",
    "for i in range(len(lines)):\n",
    "    print(lines[i])"
   ]
  },
  {
   "cell_type": "code",
   "execution_count": 30,
   "metadata": {
    "code_folding": []
   },
   "outputs": [
    {
     "name": "stdout",
     "output_type": "stream",
     "text": [
      "*****\n",
      "i= 1 , var= 0.1111111111111111\n",
      "k= 0\n",
      "limits[k] [0.0, 100.0]\n",
      "B in range: [28.23407557 28.23407557 28.23408569 10.25790309 10.27059203 10.25789398\n",
      " 10.25789398 10.25789357 28.23129324 28.18981015]\n",
      "Guess: 19.242551685758364\n",
      "Threshold 10.0\n",
      "Detected a split! At interval: [0.0, 100.0] , for guess_B: 19.242551685758364\n",
      "Above: [28.23407557 28.23407557 28.23408569 28.23129324 28.18981015] , mean= 28.22466804298636\n",
      "Bellow: [10.25790309 10.27059203 10.25789398 10.25789398 10.25789357] , mean= 10.260435328530361\n",
      "All lines: {0: {'line': [18.07639979068642, 10.260435328530361], 'limits': [0.0, 19.242551685758364], 'var': [0.0]}, 1: {'line': [18.07639979068642, 28.22466804298636], 'limits': [19.242551685758364, 100.0]}}\n",
      "Guess: 19.242551685758364\n",
      "*****\n",
      "i= 2 , var= 0.2222222222222222\n",
      "k= 0\n",
      "limits[k] [0.0, 19.242551685758364]\n",
      "B in range: [13.53223558 13.52736662 13.52511052 13.5663046  13.53531484  3.87805322\n",
      "  3.87749862]\n",
      "Guess: 10.777411998863018\n",
      "Threshold 10.0\n",
      "Not detected a split...\n",
      "k= 1\n",
      "limits[k] [19.242551685758364, 100.0]\n",
      "B in range: [26.78266941 29.1832193  38.21777015]\n",
      "Guess: 31.394552955146068\n",
      "Threshold 10.0\n",
      "Detected a split! At interval: [19.242551685758364, 100.0] , for guess_B: 31.394552955146068\n",
      "Above: [38.21777015] , mean= 38.21777015362511\n",
      "Bellow: [26.78266941 29.1832193 ] , mean= 27.982944355906547\n",
      "All lines: {0: {'line': [18.07639979068642, 10.260435328530361, 10.777411998863018], 'limits': [0.0, 19.242551685758364], 'var': [0.0]}, 1: {'line': [18.07639979068642, 28.22466804298636, 27.982944355906547], 'limits': [19.242551685758364, 31.394552955146068]}, 2: {'line': [18.07639979068642, 28.22466804298636, 38.21777015362511], 'limits': [31.394552955146068, 100.0]}}\n",
      "Guess: 31.394552955146068\n",
      "*****\n",
      "i= 3 , var= 0.3333333333333333\n",
      "k= 0\n",
      "limits[k] [0.0, 19.242551685758364]\n",
      "B in range: [0.53130922 0.10091008]\n",
      "Guess: 0.31610964929272006\n",
      "Threshold 10.0\n",
      "Not detected a split...\n",
      "k= 1\n",
      "limits[k] [19.242551685758364, 31.394552955146068]\n",
      "B in range: []\n",
      "Guess: nan\n",
      "Threshold 10.0\n"
     ]
    },
    {
     "name": "stderr",
     "output_type": "stream",
     "text": [
      "/home/ohm/anaconda3/lib/python3.7/site-packages/numpy/core/fromnumeric.py:2920: RuntimeWarning: Mean of empty slice.\n",
      "  out=out, **kwargs)\n",
      "/home/ohm/anaconda3/lib/python3.7/site-packages/numpy/core/_methods.py:85: RuntimeWarning: invalid value encountered in double_scalars\n",
      "  ret = ret.dtype.type(ret / rcount)\n"
     ]
    },
    {
     "ename": "ValueError",
     "evalue": "Found array with 0 sample(s) (shape=(0, 1)) while a minimum of 1 is required.",
     "output_type": "error",
     "traceback": [
      "\u001b[0;31m---------------------------------------------------------------------------\u001b[0m",
      "\u001b[0;31mValueError\u001b[0m                                Traceback (most recent call last)",
      "\u001b[0;32m<ipython-input-30-1fb27bbeab2f>\u001b[0m in \u001b[0;36m<module>\u001b[0;34m()\u001b[0m\n\u001b[1;32m     20\u001b[0m         \u001b[0mprint\u001b[0m\u001b[0;34m(\u001b[0m\u001b[0;34m\"Guess:\"\u001b[0m\u001b[0;34m,\u001b[0m\u001b[0mguess_B\u001b[0m\u001b[0;34m)\u001b[0m\u001b[0;34m\u001b[0m\u001b[0;34m\u001b[0m\u001b[0m\n\u001b[1;32m     21\u001b[0m         \u001b[0mprint\u001b[0m\u001b[0;34m(\u001b[0m\u001b[0;34m\"Threshold\"\u001b[0m\u001b[0;34m,\u001b[0m\u001b[0mthreshold\u001b[0m\u001b[0;34m)\u001b[0m\u001b[0;34m\u001b[0m\u001b[0;34m\u001b[0m\u001b[0m\n\u001b[0;32m---> 22\u001b[0;31m         \u001b[0msplit\u001b[0m\u001b[0;34m,\u001b[0m\u001b[0mcenters\u001b[0m\u001b[0;34m=\u001b[0m\u001b[0mcheck_doubling\u001b[0m\u001b[0;34m(\u001b[0m\u001b[0mB\u001b[0m\u001b[0;34m,\u001b[0m\u001b[0mguess_B\u001b[0m\u001b[0;34m,\u001b[0m\u001b[0mthreshold\u001b[0m\u001b[0;34m)\u001b[0m\u001b[0;34m\u001b[0m\u001b[0;34m\u001b[0m\u001b[0m\n\u001b[0m\u001b[1;32m     23\u001b[0m         \u001b[0;32mif\u001b[0m \u001b[0msplit\u001b[0m\u001b[0;34m==\u001b[0m\u001b[0;32mTrue\u001b[0m\u001b[0;34m:\u001b[0m\u001b[0;34m\u001b[0m\u001b[0;34m\u001b[0m\u001b[0m\n\u001b[1;32m     24\u001b[0m             \u001b[0mprint\u001b[0m\u001b[0;34m(\u001b[0m\u001b[0;34m\"Detected a split! At interval:\"\u001b[0m\u001b[0;34m,\u001b[0m\u001b[0mlimits_k\u001b[0m\u001b[0;34m,\u001b[0m\u001b[0;34m\", for guess_B:\"\u001b[0m\u001b[0;34m,\u001b[0m\u001b[0mguess_B\u001b[0m\u001b[0;34m)\u001b[0m\u001b[0;34m\u001b[0m\u001b[0;34m\u001b[0m\u001b[0m\n",
      "\u001b[0;32m<ipython-input-4-6d9f7aadc06e>\u001b[0m in \u001b[0;36mcheck_doubling\u001b[0;34m(sample, guess, threshold_distance)\u001b[0m\n\u001b[1;32m      3\u001b[0m     \u001b[0;31m#print(guesses.shape)\u001b[0m\u001b[0;34m\u001b[0m\u001b[0;34m\u001b[0m\u001b[0;34m\u001b[0m\u001b[0m\n\u001b[1;32m      4\u001b[0m     \u001b[0mkm\u001b[0m \u001b[0;34m=\u001b[0m \u001b[0mKMeans\u001b[0m\u001b[0;34m(\u001b[0m\u001b[0minit\u001b[0m\u001b[0;34m=\u001b[0m\u001b[0mguesses\u001b[0m\u001b[0;34m,\u001b[0m \u001b[0mn_clusters\u001b[0m\u001b[0;34m=\u001b[0m\u001b[0;36m2\u001b[0m\u001b[0;34m,\u001b[0m \u001b[0mn_init\u001b[0m\u001b[0;34m=\u001b[0m\u001b[0;36m1\u001b[0m\u001b[0;34m)\u001b[0m\u001b[0;34m\u001b[0m\u001b[0;34m\u001b[0m\u001b[0m\n\u001b[0;32m----> 5\u001b[0;31m     \u001b[0mkm\u001b[0m\u001b[0;34m.\u001b[0m\u001b[0mfit\u001b[0m\u001b[0;34m(\u001b[0m\u001b[0msample\u001b[0m\u001b[0;34m.\u001b[0m\u001b[0mreshape\u001b[0m\u001b[0;34m(\u001b[0m\u001b[0;34m-\u001b[0m\u001b[0;36m1\u001b[0m\u001b[0;34m,\u001b[0m\u001b[0;36m1\u001b[0m\u001b[0;34m)\u001b[0m\u001b[0;34m)\u001b[0m\u001b[0;34m\u001b[0m\u001b[0;34m\u001b[0m\u001b[0m\n\u001b[0m\u001b[1;32m      6\u001b[0m     \u001b[0;32mreturn\u001b[0m \u001b[0;34m(\u001b[0m\u001b[0mnp\u001b[0m\u001b[0;34m.\u001b[0m\u001b[0mfabs\u001b[0m\u001b[0;34m(\u001b[0m\u001b[0mkm\u001b[0m\u001b[0;34m.\u001b[0m\u001b[0mcluster_centers_\u001b[0m\u001b[0;34m[\u001b[0m\u001b[0;36m1\u001b[0m\u001b[0;34m]\u001b[0m\u001b[0;34m-\u001b[0m\u001b[0mkm\u001b[0m\u001b[0;34m.\u001b[0m\u001b[0mcluster_centers_\u001b[0m\u001b[0;34m[\u001b[0m\u001b[0;36m0\u001b[0m\u001b[0;34m]\u001b[0m\u001b[0;34m)\u001b[0m\u001b[0;34m>\u001b[0m\u001b[0mthreshold_distance\u001b[0m\u001b[0;34m)\u001b[0m\u001b[0;34m[\u001b[0m\u001b[0;36m0\u001b[0m\u001b[0;34m]\u001b[0m\u001b[0;34m,\u001b[0m\u001b[0mnp\u001b[0m\u001b[0;34m.\u001b[0m\u001b[0msqueeze\u001b[0m\u001b[0;34m(\u001b[0m\u001b[0mkm\u001b[0m\u001b[0;34m.\u001b[0m\u001b[0mcluster_centers_\u001b[0m\u001b[0;34m)\u001b[0m\u001b[0;34m\u001b[0m\u001b[0;34m\u001b[0m\u001b[0m\n\u001b[1;32m      7\u001b[0m \u001b[0msample\u001b[0m \u001b[0;34m=\u001b[0m \u001b[0mnp\u001b[0m\u001b[0;34m.\u001b[0m\u001b[0mrandom\u001b[0m\u001b[0;34m.\u001b[0m\u001b[0mrandom\u001b[0m\u001b[0;34m(\u001b[0m\u001b[0;36m100\u001b[0m\u001b[0;34m)\u001b[0m\u001b[0;34m\u001b[0m\u001b[0;34m\u001b[0m\u001b[0m\n",
      "\u001b[0;32m~/anaconda3/lib/python3.7/site-packages/sklearn/cluster/k_means_.py\u001b[0m in \u001b[0;36mfit\u001b[0;34m(self, X, y, sample_weight)\u001b[0m\n\u001b[1;32m    969\u001b[0m                 \u001b[0mtol\u001b[0m\u001b[0;34m=\u001b[0m\u001b[0mself\u001b[0m\u001b[0;34m.\u001b[0m\u001b[0mtol\u001b[0m\u001b[0;34m,\u001b[0m \u001b[0mrandom_state\u001b[0m\u001b[0;34m=\u001b[0m\u001b[0mrandom_state\u001b[0m\u001b[0;34m,\u001b[0m \u001b[0mcopy_x\u001b[0m\u001b[0;34m=\u001b[0m\u001b[0mself\u001b[0m\u001b[0;34m.\u001b[0m\u001b[0mcopy_x\u001b[0m\u001b[0;34m,\u001b[0m\u001b[0;34m\u001b[0m\u001b[0;34m\u001b[0m\u001b[0m\n\u001b[1;32m    970\u001b[0m                 \u001b[0mn_jobs\u001b[0m\u001b[0;34m=\u001b[0m\u001b[0mself\u001b[0m\u001b[0;34m.\u001b[0m\u001b[0mn_jobs\u001b[0m\u001b[0;34m,\u001b[0m \u001b[0malgorithm\u001b[0m\u001b[0;34m=\u001b[0m\u001b[0mself\u001b[0m\u001b[0;34m.\u001b[0m\u001b[0malgorithm\u001b[0m\u001b[0;34m,\u001b[0m\u001b[0;34m\u001b[0m\u001b[0;34m\u001b[0m\u001b[0m\n\u001b[0;32m--> 971\u001b[0;31m                 return_n_iter=True)\n\u001b[0m\u001b[1;32m    972\u001b[0m         \u001b[0;32mreturn\u001b[0m \u001b[0mself\u001b[0m\u001b[0;34m\u001b[0m\u001b[0;34m\u001b[0m\u001b[0m\n\u001b[1;32m    973\u001b[0m \u001b[0;34m\u001b[0m\u001b[0m\n",
      "\u001b[0;32m~/anaconda3/lib/python3.7/site-packages/sklearn/cluster/k_means_.py\u001b[0m in \u001b[0;36mk_means\u001b[0;34m(X, n_clusters, sample_weight, init, precompute_distances, n_init, max_iter, verbose, tol, random_state, copy_x, n_jobs, algorithm, return_n_iter)\u001b[0m\n\u001b[1;32m    309\u001b[0m     \u001b[0morder\u001b[0m \u001b[0;34m=\u001b[0m \u001b[0;34m\"C\"\u001b[0m \u001b[0;32mif\u001b[0m \u001b[0mcopy_x\u001b[0m \u001b[0;32melse\u001b[0m \u001b[0;32mNone\u001b[0m\u001b[0;34m\u001b[0m\u001b[0;34m\u001b[0m\u001b[0m\n\u001b[1;32m    310\u001b[0m     X = check_array(X, accept_sparse='csr', dtype=[np.float64, np.float32],\n\u001b[0;32m--> 311\u001b[0;31m                     order=order, copy=copy_x)\n\u001b[0m\u001b[1;32m    312\u001b[0m     \u001b[0;31m# verify that the number of samples given is larger than k\u001b[0m\u001b[0;34m\u001b[0m\u001b[0;34m\u001b[0m\u001b[0;34m\u001b[0m\u001b[0m\n\u001b[1;32m    313\u001b[0m     \u001b[0;32mif\u001b[0m \u001b[0m_num_samples\u001b[0m\u001b[0;34m(\u001b[0m\u001b[0mX\u001b[0m\u001b[0;34m)\u001b[0m \u001b[0;34m<\u001b[0m \u001b[0mn_clusters\u001b[0m\u001b[0;34m:\u001b[0m\u001b[0;34m\u001b[0m\u001b[0;34m\u001b[0m\u001b[0m\n",
      "\u001b[0;32m~/anaconda3/lib/python3.7/site-packages/sklearn/utils/validation.py\u001b[0m in \u001b[0;36mcheck_array\u001b[0;34m(array, accept_sparse, accept_large_sparse, dtype, order, copy, force_all_finite, ensure_2d, allow_nd, ensure_min_samples, ensure_min_features, warn_on_dtype, estimator)\u001b[0m\n\u001b[1;32m    580\u001b[0m                              \u001b[0;34m\" minimum of %d is required%s.\"\u001b[0m\u001b[0;34m\u001b[0m\u001b[0;34m\u001b[0m\u001b[0m\n\u001b[1;32m    581\u001b[0m                              % (n_samples, shape_repr, ensure_min_samples,\n\u001b[0;32m--> 582\u001b[0;31m                                 context))\n\u001b[0m\u001b[1;32m    583\u001b[0m \u001b[0;34m\u001b[0m\u001b[0m\n\u001b[1;32m    584\u001b[0m     \u001b[0;32mif\u001b[0m \u001b[0mensure_min_features\u001b[0m \u001b[0;34m>\u001b[0m \u001b[0;36m0\u001b[0m \u001b[0;32mand\u001b[0m \u001b[0marray\u001b[0m\u001b[0;34m.\u001b[0m\u001b[0mndim\u001b[0m \u001b[0;34m==\u001b[0m \u001b[0;36m2\u001b[0m\u001b[0;34m:\u001b[0m\u001b[0;34m\u001b[0m\u001b[0;34m\u001b[0m\u001b[0m\n",
      "\u001b[0;31mValueError\u001b[0m: Found array with 0 sample(s) (shape=(0, 1)) while a minimum of 1 is required."
     ]
    }
   ],
   "source": [
    "for j,var in enumerate(contvar[1:4]):\n",
    "    i=j+1\n",
    "    print(\"*****\")\n",
    "    print(\"i=\",i,\", var=\",var)\n",
    "    previous_len_lines = len(lines)\n",
    "    extra_lines = 0\n",
    "    while k<max_lines:\n",
    "        print(\"k=\",k)\n",
    "        # Let's say there were two lines, then each one can detect a split, but no more!\n",
    "        if k>=previous_len_lines:\n",
    "            break\n",
    "        # Passing the B's in the range of the specific line\n",
    "        all_B = data['B'][i]\n",
    "        limits_k=lines[k][\"limits\"]\n",
    "        print(\"limits[k]\",limits_k)\n",
    "        # Choosing only B in range of limits of the specific line in lines\n",
    "        B = all_B[np.where((all_B >= limits_k[0]) & (all_B <= limits_k[1]))[0]]\n",
    "        guess_B = np.mean(B)\n",
    "        print(\"B in range:\",B)\n",
    "        print(\"Guess:\",guess_B)\n",
    "        print(\"Threshold\",threshold)\n",
    "        split,centers=check_doubling(B,guess_B,threshold)\n",
    "        if split==True:\n",
    "            print(\"Detected a split! At interval:\",limits_k,\", for guess_B:\",guess_B)\n",
    "            center = np.mean(centers)\n",
    "            B_bellow=np.where((B <= center) & (B>=limits_k[0]))[0]\n",
    "            B_above =np.where((B > center) & (B<=limits_k[1]))[0]\n",
    "            #B_bellow=np.where((B < guess_B) & (B>=limits[k][0]))[0]\n",
    "            #B_above =np.where((B > guess_B) & (B<=limits[k][1]))[0]\n",
    "            #print(\"line:\",lines[k][\"line\"])\n",
    "            new_k = previous_len_lines+extra_lines\n",
    "            lines[new_k]={}\n",
    "            lines[new_k][\"line\"]=lines[k][\"line\"].copy()\n",
    "            limits_above  = [guess_B,limits_k[1]]\n",
    "            limits_bellow = [limits_k[0],guess_B]\n",
    "            lines[k][\"limits\"]=limits_bellow\n",
    "            lines[new_k][\"limits\"]=limits_above\n",
    "            print(\"Above:\",B[B_above],\", mean=\",np.mean(B[B_above]))\n",
    "            print(\"Bellow:\",B[B_bellow],\", mean=\",np.mean(B[B_bellow]))\n",
    "            lines[k][\"line\"].append(np.mean(B[B_bellow]))\n",
    "            lines[new_k][\"line\"].append(np.mean(B[B_above]))\n",
    "            #print(lines[k])\n",
    "            #print(lines[-1])\n",
    "        else:\n",
    "            print(\"Not detected a split...\")\n",
    "            lines[k][\"line\"].append(np.mean(B))\n",
    "        #print(np.mean(B))\n",
    "    print(\"All lines:\",lines)\n",
    "    print(\"Guess:\",guess_B)\n",
    "#plt.plot(contvar,lines[0])\n",
    "#plt.ylim([0,100])\n",
    "#plt.xlim([contvar[0],contvar[-1]])"
   ]
  }
 ],
 "metadata": {
  "kernelspec": {
   "display_name": "Python 3",
   "language": "python",
   "name": "python3"
  },
  "language_info": {
   "codemirror_mode": {
    "name": "ipython",
    "version": 3
   },
   "file_extension": ".py",
   "mimetype": "text/x-python",
   "name": "python",
   "nbconvert_exporter": "python",
   "pygments_lexer": "ipython3",
   "version": "3.7.2"
  }
 },
 "nbformat": 4,
 "nbformat_minor": 2
}
