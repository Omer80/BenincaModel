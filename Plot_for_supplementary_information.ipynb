{
 "cells": [
  {
   "cell_type": "code",
   "execution_count": 1,
   "metadata": {
    "code_folding": [
     0
    ]
   },
   "outputs": [],
   "source": [
    "# load libraries and set plot parameters\n",
    "import matplotlib\n",
    "matplotlib.use(\"Qt5Cairo\")\n",
    "import numpy as np\n",
    "import pickle as pl\n",
    "#import PrettyTable as pt\n",
    "\n",
    "import matplotlib.pyplot as plt\n",
    "import seaborn as sns\n",
    "import matplotlib.ticker as ticker\n",
    "\n",
    "def figsize(scale,shrinky=1.0):\n",
    "    #fig_width_pt = 469.75502 # For Nature           # Get this from LaTeX using \\the\\textwidth\n",
    "    fig_width_pt = 518.74    # From Nature Guidelines of 183mm wide for images of double column\n",
    "    inches_per_pt = 1.0/72.27                       # Convert pt to inch\n",
    "    golden_mean = (np.sqrt(5.0)-1.0)/2.0            # Aesthetic ratio (you could change this)\n",
    "    fig_width = fig_width_pt*inches_per_pt*scale    # width in inches\n",
    "    fig_height = fig_width*golden_mean              # height in inches\n",
    "    fig_size = [fig_width,fig_height*shrinky]\n",
    "    return fig_size\n",
    "\n",
    "from IPython.display import set_matplotlib_formats\n",
    "set_matplotlib_formats('pdf', 'png')\n",
    "plt.rcParams['savefig.dpi'] = 75\n",
    "\n",
    "plt.rcParams['figure.autolayout'] = False\n",
    "plt.rcParams['figure.figsize'] = 7.20472222,7.20472222/((np.sqrt(5.0)-1.0)/2.0)\n",
    "plt.rcParams['axes.labelsize'] = 12\n",
    "plt.rcParams['axes.titlesize'] = 12\n",
    "plt.rcParams['font.size'] = 16\n",
    "plt.rcParams['lines.linewidth'] = 2.0\n",
    "plt.rcParams['lines.markersize'] = 12\n",
    "plt.rcParams['legend.fontsize'] = 12\n",
    "\n",
    "plt.rcParams['text.usetex'] = True\n",
    "plt.rcParams['font.family'] = \"sans\"\n",
    "plt.rcParams['font.serif'] = \"cm\"\n",
    "plt.rcParams['text.latex.preamble'] = r\"\\usepackage{subdepth}, \\usepackage{type1cm}\"\n",
    "\n",
    "\n",
    "\n",
    "# I make my own newfig and savefig functions\n",
    "def newfig(width,shrinky=1.0):\n",
    "    plt.clf()\n",
    "    fig = plt.figure(figsize=figsize(width,shrinky))\n",
    "    ax = fig.add_subplot(111)\n",
    "    return fig, ax\n",
    "def newsubplots(width,nrows,ncols,sharex=False,sharey=False,shrinky=1.0):\n",
    "    plt.clf()\n",
    "    fig_width,fig_height=figsize(width/float(ncols))\n",
    "    fig,ax = plt.subplots(nrows,ncols,figsize=[fig_width*float(ncols),shrinky*fig_height*float(nrows)],sharex=sharex,sharey=sharey)\n",
    "    return fig, ax\n",
    "\n",
    "def savefig(filename):\n",
    "    #plt.savefig('{}.pgf'.format(filename))\n",
    "    plt.savefig('{}.png'.format(filename))\n",
    "    plt.savefig('{}.svg'.format(filename))\n",
    "    #plt.savefig('{}.eps'.format(filename))\n",
    "    plt.savefig('{}.pdf'.format(filename))\n",
    "import deepdish.io as dd\n",
    "import itertools\n",
    "%matplotlib inline"
   ]
  }
 ],
 "metadata": {
  "kernelspec": {
   "display_name": "Python 3",
   "language": "python",
   "name": "python3"
  },
  "language_info": {
   "codemirror_mode": {
    "name": "ipython",
    "version": 3
   },
   "file_extension": ".py",
   "mimetype": "text/x-python",
   "name": "python",
   "nbconvert_exporter": "python",
   "pygments_lexer": "ipython3",
   "version": "3.7.2"
  }
 },
 "nbformat": 4,
 "nbformat_minor": 2
}
