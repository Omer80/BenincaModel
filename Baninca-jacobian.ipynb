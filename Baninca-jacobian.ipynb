{
 "cells": [
  {
   "cell_type": "code",
   "execution_count": 33,
   "metadata": {
    "code_folding": [
     0
    ]
   },
   "outputs": [],
   "source": [
    "# Loading packages\n",
    "import numpy as np\n",
    "import sdeint\n",
    "import deepdish.io as dd\n",
    "from scipy.integrate import solve_ivp\n",
    "import matplotlib.pyplot as plt\n",
    "from scipy import signal\n",
    "import matplotlib.gridspec as gridspec\n",
    "%matplotlib inline\n",
    "import time\n",
    "from IPython.display import set_matplotlib_formats\n",
    "from ipywidgets import interact, interactive,FloatSlider,IntSlider,ToggleButton\n",
    "from ipywidgets import Button, HBox, VBox, Text,Select,Layout,Dropdown,interactive_output\n",
    "set_matplotlib_formats('pdf', 'png')\n",
    "plt.rcParams['savefig.dpi'] = 75\n",
    "\n",
    "plt.rcParams['figure.autolayout'] = False\n",
    "plt.rcParams['figure.figsize'] = 10, 6\n",
    "plt.rcParams['axes.labelsize'] = 18\n",
    "plt.rcParams['axes.titlesize'] = 20\n",
    "plt.rcParams['font.size'] = 16\n",
    "plt.rcParams['lines.linewidth'] = 2.0\n",
    "plt.rcParams['lines.markersize'] = 8\n",
    "plt.rcParams['legend.fontsize'] = 14\n",
    "\n",
    "plt.rcParams['text.usetex'] = True\n",
    "plt.rcParams['font.family'] = \"sans\"\n",
    "plt.rcParams['font.serif'] = \"cm\"\n",
    "#plt.rcParams['text.latex.preamble'] = \"\\usepackage{subdepth}, \\usepackage{type1cm}\""
   ]
  },
  {
   "cell_type": "code",
   "execution_count": 26,
   "metadata": {},
   "outputs": [
    {
     "name": "stdout",
     "output_type": "stream",
     "text": [
      "dB0dt =  -A*B0*cAB - B0*M*cM - B0*mB + BA*mA*(alpha*(Tmax - Tmean)*cos(0.01721420632104*t - 0.550854602273279) + 1.0) + cBR*(B0 + BA)*(-A - B0 - M + 1.0)\n",
      "dBAdt =  A*B0*cAB - BA*M*cM - BA*mA*(alpha*(Tmax - Tmean)*cos(0.01721420632104*t - 0.550854602273279) + 1.0) - BA*mB\n",
      "dAdt  =  A*B0*cAB - A*M*cM + A*cAR*(-A - B0 - M + 1.0) - A*mA*(alpha*(Tmax - Tmean)*cos(0.01721420632104*t - 0.550854602273279) + 1.0)\n",
      "dMdt  =  M*cM*(A + B0) - M*mM*(alpha*(Tmax - Tmean)*cos(0.01721420632104*t - 0.550854602273279) + 1.0)\n",
      "{'Tmax': 17.1, 'Tmean': 17.1, 'alpha': 1.0, 'cAB': 0.049, 'cAR': 0.021, 'cBR': 0.018, 'cM': 0.078, 'mA': 0.013, 'mB': 0.003, 'mM': 0.017, 'muAB': 0.036, 'muAR': 0.008, 'muB': 0.015, 'muM': 0.061}\n"
     ]
    }
   ],
   "source": [
    "# Setting up the model\n",
    "from sympy import symbols,solve,Eq,simplify\n",
    "from BenincaModel import BenincaModel,Es_normal\n",
    "#Es_normal['rhs']='RM_forced'\n",
    "Es_normal[\"verbose\"]=False\n",
    "m = BenincaModel(Es=Es_normal,Ps='auto/Beninca_set1.hdf5',Vs=None)\n",
    "m.print_equations()\n",
    "p=m.p.copy()\n",
    "P_syms = m.Ps_symbols\n",
    "V_syms = m.var_symbols\n",
    "B0_0 = (P_syms['cBR']-P_syms['mB'])/P_syms['cBR']\n",
    "print(p)"
   ]
  },
  {
   "cell_type": "code",
   "execution_count": 29,
   "metadata": {},
   "outputs": [
    {
     "name": "stdout",
     "output_type": "stream",
     "text": [
      "Matrix([[-cBR + mB, 1.0*mA + mB, -cAB + cAB*mB/cBR - cBR + mB, -cBR - cM + mB + cM*mB/cBR], [0, -1.0*mA - mB, cAB*(cBR - mB)/cBR, 0], [0, 0, (cAB*(cBR - mB) + cAR*mB - 1.0*cBR*mA)/cBR, 0], [0, 0, 0, cM - 1.0*mM - cM*mB/cBR]])\n",
      "-0.0150000000000000\n",
      "-0.0160000000000000\n",
      "0.0313333333333333\n",
      "0.0480000000000000\n",
      "[-cBR + mB, -mA - mB, (cAB*cBR - cAB*mB + cAR*mB - cBR*mA)/cBR, (cBR*cM - cBR*mM - cM*mB)/cBR]\n"
     ]
    }
   ],
   "source": [
    "jac_alpha0=m.sym_localJac.subs(P_syms['alpha'],0)\n",
    "\n",
    "jac_alpha0_steady_state = jac_alpha0.subs([(V_syms['BA'],0),(V_syms['A'],0),(V_syms['M'],0),(V_syms['B0'],B0_0)])\n",
    "print(simplify(jac_alpha0_steady_state))\n",
    "eigs_dict = simplify(jac_alpha0_steady_state).eigenvals()\n",
    "eigs = []\n",
    "for key in eigs_dict:\n",
    "    print(m.sub_parms(key))\n",
    "    eigs.append(key)\n",
    "print(eigs)"
   ]
  },
  {
   "cell_type": "code",
   "execution_count": 42,
   "metadata": {},
   "outputs": [
    {
     "name": "stdout",
     "output_type": "stream",
     "text": [
      "0.049 0.021 0.078 0.017\n"
     ]
    },
    {
     "data": {
      "application/vnd.jupyter.widget-view+json": {
       "model_id": "0aad2746eb3e44c1bb652ff856507451",
       "version_major": 2,
       "version_minor": 0
      },
      "text/plain": [
       "HBox(children=(FloatSlider(value=0.049, max=0.098, step=0.01), FloatSlider(value=0.021, max=0.042, step=0.01),…"
      ]
     },
     "metadata": {},
     "output_type": "display_data"
    },
    {
     "data": {
      "application/vnd.jupyter.widget-view+json": {
       "model_id": "d3b1d0540bd0496eae468031a3740783",
       "version_major": 2,
       "version_minor": 0
      },
      "text/plain": [
       "Output()"
      ]
     },
     "metadata": {},
     "output_type": "display_data"
    }
   ],
   "source": [
    "cAB = FloatSlider(min=0., max=2.0*m.p['cAB'], step=0.01, value=m.p['cAB'])\n",
    "cAR = FloatSlider(min=0., max=2.0*m.p['cAR'], step=0.01, value=m.p['cAR'])\n",
    "cM  = FloatSlider(min=0., max=2.0*m.p['cM'], step=0.01, value=m.p['cM'])\n",
    "mM  = FloatSlider(min=0., max=2.0*m.p['mM'], step=0.01, value=m.p['mM'])\n",
    "ui = HBox([cAB, cAR, cM, mM])\n",
    "print(m.p['cAB'],m.p['cAR'],m.p['cM'],m.p['mM'])\n",
    "def f(cAB, cAR, cM,mM):\n",
    "    for eig in eigs:\n",
    "        eigs_new=eig.subs([(P_syms['cBR'],m.p['cBR']),(P_syms['mB'],m.p['mB']),(P_syms['mA'],m.p['mA'])])\n",
    "        print(eigs_new.subs([(P_syms['cAB'],cAB),(P_syms['cAR'],cAR),(P_syms['cM'],cM),(P_syms['mM'],mM)]))\n",
    "\n",
    "out = interactive_output(f, {'cAB': cAB, 'cAR': cAR, 'cM': cM,'mM':mM})\n",
    "\n",
    "display(ui, out)"
   ]
  }
 ],
 "metadata": {
  "kernelspec": {
   "display_name": "Python 3",
   "language": "python",
   "name": "python3"
  },
  "language_info": {
   "codemirror_mode": {
    "name": "ipython",
    "version": 3
   },
   "file_extension": ".py",
   "mimetype": "text/x-python",
   "name": "python",
   "nbconvert_exporter": "python",
   "pygments_lexer": "ipython3",
   "version": "3.7.2"
  }
 },
 "nbformat": 4,
 "nbformat_minor": 2
}
